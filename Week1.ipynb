{
 "cells": [
  {
   "cell_type": "code",
   "execution_count": 2,
   "id": "ee3b9a32-e034-4e10-9ff2-df5fb987dd25",
   "metadata": {},
   "outputs": [
    {
     "name": "stdout",
     "output_type": "stream",
     "text": [
      "Hello World!\n"
     ]
    }
   ],
   "source": [
    "#Print Hello World!\n",
    "print(\"Hello World!\")"
   ]
  },
  {
   "cell_type": "code",
   "execution_count": 4,
   "id": "507040b3-0c14-4c33-8179-56c2e168e6b6",
   "metadata": {},
   "outputs": [
    {
     "name": "stdout",
     "output_type": "stream",
     "text": [
      "The sum is: 15\n"
     ]
    }
   ],
   "source": [
    "#Sum of two numbers\n",
    "a=10\n",
    "b=5\n",
    "print(\"The sum is:\", a+b)"
   ]
  },
  {
   "cell_type": "code",
   "execution_count": 6,
   "id": "897086bd-b8d4-49d1-82f7-c9ea2465a467",
   "metadata": {},
   "outputs": [
    {
     "name": "stdout",
     "output_type": "stream",
     "text": [
      "The square of the number is: 49\n"
     ]
    }
   ],
   "source": [
    "#Square of a number\n",
    "num=7\n",
    "print(\"The square of the number is:\", num**2)"
   ]
  },
  {
   "cell_type": "code",
   "execution_count": 12,
   "id": "dc5d6fed-d50e-4aa7-8454-2775225ac2b0",
   "metadata": {},
   "outputs": [
    {
     "name": "stdout",
     "output_type": "stream",
     "text": [
      "Hello,Slice!\n"
     ]
    }
   ],
   "source": [
    "#Accept the user's name and greet them with it\n",
    "name=\"Slice\"\n",
    "print(f\"Hello,{name}!\")"
   ]
  },
  {
   "cell_type": "code",
   "execution_count": 14,
   "id": "774180fc-ed28-4d77-a6ef-d2e1073a99ae",
   "metadata": {},
   "outputs": [
    {
     "name": "stdout",
     "output_type": "stream",
     "text": [
      "4 is even.\n"
     ]
    }
   ],
   "source": [
    "#Even or odd\n",
    "num=4\n",
    "if num%2==0:\n",
    "    print(f\"{num} is even.\")\n",
    "else:\n",
    "    print(f\"{num} is odd.\")\n",
    "\n"
   ]
  },
  {
   "cell_type": "code",
   "execution_count": 16,
   "id": "70325c44-12dd-4427-bc83-4325b97765b8",
   "metadata": {},
   "outputs": [
    {
     "name": "stdout",
     "output_type": "stream",
     "text": [
      "List with the unique elements: [1, 2, 3, 4, 5]\n"
     ]
    }
   ],
   "source": [
    "#Return a new list with the unique elements of the first list\n",
    "first=[1, 2, 3, 2, 4, 1, 5]\n",
    "unique_f=list(set(first))\n",
    "print(\"List with the unique elements:\", unique_f)"
   ]
  },
  {
   "cell_type": "code",
   "execution_count": 18,
   "id": "79d1902f-0909-4fa2-b4ce-03d9479fb122",
   "metadata": {},
   "outputs": [
    {
     "name": "stdout",
     "output_type": "stream",
     "text": [
      "25°C is equal to 77.0°F.\n"
     ]
    }
   ],
   "source": [
    "#Celcius to Fahrenheit\n",
    "celcius=25\n",
    "fahrenheit=(celcius*9/5)+32\n",
    "print(f\"{celcius}°C is equal to {fahrenheit}°F.\")"
   ]
  },
  {
   "cell_type": "code",
   "execution_count": 20,
   "id": "e3a84f87-7833-4791-a278-3f927bc01d42",
   "metadata": {},
   "outputs": [
    {
     "name": "stdout",
     "output_type": "stream",
     "text": [
      "The area of a circle is: 153.93804002589985\n"
     ]
    }
   ],
   "source": [
    "#Area of a circle\n",
    "import math\n",
    "radius=7\n",
    "area=math.pi*radius**2\n",
    "print(\"The area of a circle is:\", area)"
   ]
  },
  {
   "cell_type": "code",
   "execution_count": 22,
   "id": "1642f19d-d92a-477d-ad51-38ea9e0679e4",
   "metadata": {},
   "outputs": [
    {
     "name": "stdout",
     "output_type": "stream",
     "text": [
      "Reversed string: nohtyP\n"
     ]
    }
   ],
   "source": [
    "#Reverse a string\n",
    "string=\"Python\"\n",
    "rev_string=string[::-1]\n",
    "print(\"Reversed string:\", rev_string)"
   ]
  },
  {
   "cell_type": "code",
   "execution_count": 30,
   "id": "1a7ca0d9-d9f5-46cf-9cf3-4564d1caf198",
   "metadata": {},
   "outputs": [
    {
     "name": "stdout",
     "output_type": "stream",
     "text": [
      "29 is a prime number.\n",
      "29 is a prime number.\n",
      "29 is a prime number.\n",
      "29 is a prime number.\n"
     ]
    }
   ],
   "source": [
    "#Prime number \n",
    "num=29\n",
    "if num>1:\n",
    "    for i in range(2, int(num**0.5)+1):\n",
    "        if num%i==0:\n",
    "            print(f\"{num} is not a prime number.\")\n",
    "            break\n",
    "        else:\n",
    "            print(f\"{num} is a prime number.\")   \n",
    "else:\n",
    "    print(f\"{num} is not a prime number.\")"
   ]
  },
  {
   "cell_type": "code",
   "execution_count": 47,
   "id": "1f35b0ea-61fc-409c-813b-786bac915aa5",
   "metadata": {},
   "outputs": [
    {
     "name": "stdout",
     "output_type": "stream",
     "text": [
      "The factorial is: 120\n"
     ]
    }
   ],
   "source": [
    "#Factorial of a number\n",
    "def factorial(n):\n",
    "    if n==0 or n==1:\n",
    "        return 1\n",
    "    else:\n",
    "        return n*factorial(n-1)\n",
    "num=5\n",
    "print(\"The factorial is:\", factorial (num))"
   ]
  },
  {
   "cell_type": "code",
   "execution_count": 45,
   "id": "983fa93d-5dc7-4017-9fea-e18fd79bc984",
   "metadata": {},
   "outputs": [
    {
     "name": "stdout",
     "output_type": "stream",
     "text": [
      "The largest number is: 50\n"
     ]
    }
   ],
   "source": [
    "#Largest from the given list\n",
    "list=[10, 20, 30, 40, 50]\n",
    "print(\"The largest number is:\", max(list))"
   ]
  },
  {
   "cell_type": "code",
   "execution_count": 49,
   "id": "455be8dc-0362-4e38-8d45-0e92191136fe",
   "metadata": {},
   "outputs": [
    {
     "name": "stdout",
     "output_type": "stream",
     "text": [
      "10 is in the range [5, 15].\n"
     ]
    }
   ],
   "source": [
    "#Range\n",
    "num=10\n",
    "start=5\n",
    "end=15\n",
    "if start<=num<=end:\n",
    "    print(f\"{num} is in the range [{start}, {end}].\")"
   ]
  },
  {
   "cell_type": "code",
   "execution_count": 57,
   "id": "924ca9ff-db89-4a98-b9cd-e7d60fda9a00",
   "metadata": {},
   "outputs": [
    {
     "ename": "NameError",
     "evalue": "name 'upper' is not defined",
     "output_type": "error",
     "traceback": [
      "\u001b[0;31m---------------------------------------------------------------------------\u001b[0m",
      "\u001b[0;31mNameError\u001b[0m                                 Traceback (most recent call last)",
      "Cell \u001b[0;32mIn[57], line 3\u001b[0m\n\u001b[1;32m      1\u001b[0m \u001b[38;5;66;03m#Uppercase and lowercase\u001b[39;00m\n\u001b[1;32m      2\u001b[0m string\u001b[38;5;241m=\u001b[39m\u001b[38;5;124m\"\u001b[39m\u001b[38;5;124mHello World\u001b[39m\u001b[38;5;124m\"\u001b[39m\n\u001b[0;32m----> 3\u001b[0m upper_count\u001b[38;5;241m=\u001b[39m\u001b[38;5;28msum\u001b[39m(\u001b[38;5;241m1\u001b[39m \u001b[38;5;28;01mfor\u001b[39;00m char \u001b[38;5;129;01min\u001b[39;00m string \u001b[38;5;28;01mif\u001b[39;00m char \u001b[38;5;129;01mis\u001b[39;00m upper())\n\u001b[1;32m      4\u001b[0m lower_count\u001b[38;5;241m=\u001b[39m\u001b[38;5;28msum\u001b[39m(\u001b[38;5;241m1\u001b[39m \u001b[38;5;28;01mfor\u001b[39;00m char \u001b[38;5;129;01min\u001b[39;00m string \u001b[38;5;28;01mif\u001b[39;00m char \u001b[38;5;129;01mis\u001b[39;00m lower())\n\u001b[1;32m      5\u001b[0m \u001b[38;5;28mprint\u001b[39m(\u001b[38;5;124m\"\u001b[39m\u001b[38;5;124mNumber of uppercase letters:\u001b[39m\u001b[38;5;124m\"\u001b[39m, upper_count)\n",
      "Cell \u001b[0;32mIn[57], line 3\u001b[0m, in \u001b[0;36m<genexpr>\u001b[0;34m(.0)\u001b[0m\n\u001b[1;32m      1\u001b[0m \u001b[38;5;66;03m#Uppercase and lowercase\u001b[39;00m\n\u001b[1;32m      2\u001b[0m string\u001b[38;5;241m=\u001b[39m\u001b[38;5;124m\"\u001b[39m\u001b[38;5;124mHello World\u001b[39m\u001b[38;5;124m\"\u001b[39m\n\u001b[0;32m----> 3\u001b[0m upper_count\u001b[38;5;241m=\u001b[39m\u001b[38;5;28msum\u001b[39m(\u001b[38;5;241m1\u001b[39m \u001b[38;5;28;01mfor\u001b[39;00m char \u001b[38;5;129;01min\u001b[39;00m string \u001b[38;5;28;01mif\u001b[39;00m char \u001b[38;5;129;01mis\u001b[39;00m upper())\n\u001b[1;32m      4\u001b[0m lower_count\u001b[38;5;241m=\u001b[39m\u001b[38;5;28msum\u001b[39m(\u001b[38;5;241m1\u001b[39m \u001b[38;5;28;01mfor\u001b[39;00m char \u001b[38;5;129;01min\u001b[39;00m string \u001b[38;5;28;01mif\u001b[39;00m char \u001b[38;5;129;01mis\u001b[39;00m lower())\n\u001b[1;32m      5\u001b[0m \u001b[38;5;28mprint\u001b[39m(\u001b[38;5;124m\"\u001b[39m\u001b[38;5;124mNumber of uppercase letters:\u001b[39m\u001b[38;5;124m\"\u001b[39m, upper_count)\n",
      "\u001b[0;31mNameError\u001b[0m: name 'upper' is not defined"
     ]
    }
   ],
   "source": [
    "#Uppercase and lowercase\n",
    "string=\"Hello World\"\n",
    "upper_count=sum(1 for char in string if char is upper())\n",
    "lower_count=sum(1 for char in string if char is lower())\n",
    "print(\"Number of uppercase letters:\", upper_count)\n",
    "print(\"Number of lowercase letters:\", lower_count)"
   ]
  }
 ],
 "metadata": {
  "kernelspec": {
   "display_name": "Python [conda env:base] *",
   "language": "python",
   "name": "conda-base-py"
  },
  "language_info": {
   "codemirror_mode": {
    "name": "ipython",
    "version": 3
   },
   "file_extension": ".py",
   "mimetype": "text/x-python",
   "name": "python",
   "nbconvert_exporter": "python",
   "pygments_lexer": "ipython3",
   "version": "3.12.7"
  }
 },
 "nbformat": 4,
 "nbformat_minor": 5
}
